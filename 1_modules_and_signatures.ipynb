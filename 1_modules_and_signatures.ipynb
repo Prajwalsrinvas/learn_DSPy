{
 "cells": [
  {
   "cell_type": "markdown",
   "id": "958c961c-02fd-47de-ad89-ec4d757bcffb",
   "metadata": {},
   "source": [
    "# L2: DSPy Programming - Signatures and Modules"
   ]
  },
  {
   "cell_type": "markdown",
   "id": "3b78a748-1059-4643-a44a-f3a8eae034b7",
   "metadata": {},
   "source": [
    "<p style=\"background-color:#fff6e4; padding:15px; border-width:3px; border-color:#f5ecda; border-style:solid; border-radius:6px\"> ⏳ <b>Note <code>(Kernel Starting)</code>:</b> This notebook takes about 30 seconds to be ready to use. You may start and watch the video while you wait.</p>"
   ]
  },
  {
   "cell_type": "code",
   "execution_count": 1,
   "id": "8751b1c3",
   "metadata": {
    "height": 115
   },
   "outputs": [],
   "source": [
    "from helper import get_openai_api_key\n",
    "\n",
    "openai_api_key = get_openai_api_key()\n",
    "\n",
    "import os\n",
    "\n",
    "os.environ[\"OPENAI_API_KEY\"] = get_openai_api_key()"
   ]
  },
  {
   "cell_type": "markdown",
   "id": "c6e035d9-152b-4f5b-9b89-487e556618de",
   "metadata": {},
   "source": [
    "<div style=\"background-color:#fff6ff; padding:13px; border-width:3px; border-color:#efe6ef; border-style:solid; border-radius:6px\">\n",
    "<p> 💻 &nbsp; <b>Access <code>requirements.txt</code> and <code>helper.py</code> files:</b> 1) click on the <em>\"File\"</em> option on the top menu of the notebook and then 2) click on <em>\"Open\"</em>.</p>\n",
    "\n",
    "<p> ⬇ &nbsp; <b>Download Notebooks:</b> 1) click on the <em>\"File\"</em> option on the top menu of the notebook and then 2) click on <em>\"Download as\"</em> and select <em>\"Notebook (.ipynb)\"</em>.</p>\n",
    "\n",
    "<p> 📒 &nbsp; For more help, please see the <em>\"Appendix – Tips, Help, and Download\"</em> Lesson.</p>\n",
    "</div>"
   ]
  },
  {
   "cell_type": "markdown",
   "id": "72705217-455a-485d-a12f-4b4f60c0fd6b",
   "metadata": {},
   "source": [
    "### Set up API key"
   ]
  },
  {
   "cell_type": "code",
   "execution_count": 2,
   "id": "102d2afa-874a-4396-8273-f5a4896bd906",
   "metadata": {
    "height": 115
   },
   "outputs": [],
   "source": [
    "from helper import get_openai_api_key\n",
    "\n",
    "openai_api_key = get_openai_api_key()\n",
    "\n",
    "import os\n",
    "\n",
    "os.environ[\"OPENAI_API_KEY\"] = get_openai_api_key()"
   ]
  },
  {
   "cell_type": "markdown",
   "id": "514ebd71-0dbd-42b8-84fd-975610e4d253",
   "metadata": {},
   "source": [
    "### Configure the LM"
   ]
  },
  {
   "cell_type": "code",
   "execution_count": 3,
   "id": "a48bd6ed-0d8f-4348-a09c-ab860b63e40c",
   "metadata": {
    "height": 47
   },
   "outputs": [],
   "source": [
    "import dspy\n",
    "\n",
    "dspy.settings.configure(lm=dspy.LM(\"openai/gpt-4o-mini\"))"
   ]
  },
  {
   "cell_type": "markdown",
   "id": "8f0e0fcc-4539-46e0-af97-a4c765acab8f",
   "metadata": {},
   "source": [
    "## Use DSPy built-in Module to Build a Sentiment Classifier"
   ]
  },
  {
   "cell_type": "code",
   "execution_count": 4,
   "id": "346f5302-0903-4595-97f7-818c637f11aa",
   "metadata": {
    "height": 132
   },
   "outputs": [],
   "source": [
    "class SentimentClassifier(dspy.Signature):\n",
    "    \"\"\"Classify the sentiment of a text.\"\"\"\n",
    "\n",
    "    text: str = dspy.InputField(desc=\"input text to classify sentiment\")\n",
    "    sentiment: int = dspy.OutputField(\n",
    "        desc=\"sentiment, the higher the more positive\", ge=0, le=10\n",
    "    )"
   ]
  },
  {
   "cell_type": "markdown",
   "id": "fe4c1e4f-b241-4c26-ac91-c2fc2b54c6c6",
   "metadata": {},
   "source": [
    "### Create a Module to Interact with the LM"
   ]
  },
  {
   "cell_type": "code",
   "execution_count": 5,
   "id": "cbcc28ff-181f-4a92-b7e8-370d39128904",
   "metadata": {
    "height": 30
   },
   "outputs": [],
   "source": [
    "predict = dspy.Predict(SentimentClassifier)"
   ]
  },
  {
   "cell_type": "code",
   "execution_count": 6,
   "id": "68ac1acd-6bc3-43be-829f-df4bbe30ddb3",
   "metadata": {
    "height": 47
   },
   "outputs": [
    {
     "name": "stdout",
     "output_type": "stream",
     "text": [
      "Prediction(\n",
      "    sentiment=8\n",
      ")\n"
     ]
    }
   ],
   "source": [
    "output = predict(text=\"I am feeling pretty happy!\")\n",
    "print(output)"
   ]
  },
  {
   "cell_type": "code",
   "execution_count": 7,
   "id": "58a7eda0-ad5f-4cd5-a9e4-9e13934ed9d2",
   "metadata": {
    "height": 47
   },
   "outputs": [
    {
     "name": "stdout",
     "output_type": "stream",
     "text": [
      "The sentiment is: 8\n",
      "The sentiment is: 8\n"
     ]
    }
   ],
   "source": [
    "print(f\"The sentiment is: {output.sentiment}\")\n",
    "print(f\"The sentiment is: {output['sentiment']}\")"
   ]
  },
  {
   "cell_type": "code",
   "execution_count": 8,
   "id": "be5d025e-4c94-48af-b99c-62815ee1b84c",
   "metadata": {
    "height": 47
   },
   "outputs": [
    {
     "name": "stdout",
     "output_type": "stream",
     "text": [
      "Prediction(\n",
      "    sentiment=8\n",
      ")\n"
     ]
    }
   ],
   "source": [
    "dspy.configure(lm=dspy.LM(\"openai/gpt-4o\"))\n",
    "print(predict(text=\"I am feeling pretty happy!\"))"
   ]
  },
  {
   "cell_type": "code",
   "execution_count": 9,
   "id": "85f2ee29-15b4-4a89-b09c-ec2b6b99b16b",
   "metadata": {
    "height": 30
   },
   "outputs": [],
   "source": [
    "dspy.configure(lm=dspy.LM(\"openai/gpt-4o-mini\"))"
   ]
  },
  {
   "cell_type": "markdown",
   "id": "eb2b9084-2b06-4c22-9683-0a2e4c0a45b0",
   "metadata": {},
   "source": [
    "### Wait, Where is My Prompt? "
   ]
  },
  {
   "cell_type": "code",
   "execution_count": 10,
   "id": "5a70885d-6cb0-4d90-bbf0-f5da296d5420",
   "metadata": {
    "height": 30
   },
   "outputs": [
    {
     "name": "stdout",
     "output_type": "stream",
     "text": [
      "\n",
      "\n",
      "\n",
      "\n",
      "\u001b[34m[2025-06-06T16:49:36.601311]\u001b[0m\n",
      "\n",
      "\u001b[31mSystem message:\u001b[0m\n",
      "\n",
      "Your input fields are:\n",
      "1. `text` (str): input text to classify sentiment\n",
      "Your output fields are:\n",
      "1. `sentiment` (int): sentiment, the higher the more positive\n",
      "Constraints: greater than or equal to: 0, less than or equal to: 10\n",
      "All interactions will be structured in the following way, with the appropriate values filled in.\n",
      "\n",
      "[[ ## text ## ]]\n",
      "{text}\n",
      "\n",
      "[[ ## sentiment ## ]]\n",
      "{sentiment}        # note: the value you produce must be a single int value\n",
      "\n",
      "[[ ## completed ## ]]\n",
      "In adhering to this structure, your objective is: \n",
      "        Classify the sentiment of a text.\n",
      "\n",
      "\n",
      "\u001b[31mUser message:\u001b[0m\n",
      "\n",
      "[[ ## text ## ]]\n",
      "I am feeling pretty happy!\n",
      "\n",
      "Respond with the corresponding output fields, starting with the field `[[ ## sentiment ## ]]` (must be formatted as a valid Python int), and then ending with the marker for `[[ ## completed ## ]]`.\n",
      "\n",
      "\n",
      "\u001b[31mResponse:\u001b[0m\n",
      "\n",
      "\u001b[32m[[ ## sentiment ## ]]\n",
      "8\n",
      "\n",
      "[[ ## completed ## ]]\u001b[0m\n",
      "\n",
      "\n",
      "\n",
      "\n",
      "\n"
     ]
    }
   ],
   "source": [
    "dspy.inspect_history(n=1)"
   ]
  },
  {
   "cell_type": "code",
   "execution_count": 11,
   "id": "a2d85755",
   "metadata": {
    "height": 81
   },
   "outputs": [
    {
     "data": {
      "text/plain": [
       "'positive'"
      ]
     },
     "execution_count": 11,
     "metadata": {},
     "output_type": "execute_result"
    }
   ],
   "source": [
    "str_signature = dspy.make_signature(\"text -> sentiment\")\n",
    "predict = dspy.Predict(str_signature)\n",
    "output = predict(text=\"I am feeling extremely happy!\")\n",
    "output.sentiment"
   ]
  },
  {
   "cell_type": "code",
   "execution_count": 12,
   "id": "0f5c5958",
   "metadata": {
    "height": 30
   },
   "outputs": [
    {
     "name": "stdout",
     "output_type": "stream",
     "text": [
      "\n",
      "\n",
      "\n",
      "\n",
      "\u001b[34m[2025-06-06T16:49:36.616089]\u001b[0m\n",
      "\n",
      "\u001b[31mSystem message:\u001b[0m\n",
      "\n",
      "Your input fields are:\n",
      "1. `text` (str)\n",
      "Your output fields are:\n",
      "1. `sentiment` (str)\n",
      "All interactions will be structured in the following way, with the appropriate values filled in.\n",
      "\n",
      "[[ ## text ## ]]\n",
      "{text}\n",
      "\n",
      "[[ ## sentiment ## ]]\n",
      "{sentiment}\n",
      "\n",
      "[[ ## completed ## ]]\n",
      "In adhering to this structure, your objective is: \n",
      "        Given the fields `text`, produce the fields `sentiment`.\n",
      "\n",
      "\n",
      "\u001b[31mUser message:\u001b[0m\n",
      "\n",
      "[[ ## text ## ]]\n",
      "I am feeling extremely happy!\n",
      "\n",
      "Respond with the corresponding output fields, starting with the field `[[ ## sentiment ## ]]`, and then ending with the marker for `[[ ## completed ## ]]`.\n",
      "\n",
      "\n",
      "\u001b[31mResponse:\u001b[0m\n",
      "\n",
      "\u001b[32m[[ ## sentiment ## ]]\n",
      "positive\n",
      "\n",
      "[[ ## completed ## ]]\u001b[0m\n",
      "\n",
      "\n",
      "\n",
      "\n",
      "\n"
     ]
    }
   ],
   "source": [
    "dspy.inspect_history(n=1)"
   ]
  },
  {
   "cell_type": "code",
   "execution_count": 13,
   "id": "14b37b3c",
   "metadata": {
    "height": 47
   },
   "outputs": [
    {
     "data": {
      "text/plain": [
       "'neutral'"
      ]
     },
     "execution_count": 13,
     "metadata": {},
     "output_type": "execute_result"
    }
   ],
   "source": [
    "output = predict(text=\"I do not feel that happy nor do I feel sad\")\n",
    "output.sentiment"
   ]
  },
  {
   "cell_type": "code",
   "execution_count": 14,
   "id": "a9a11714",
   "metadata": {
    "height": 30
   },
   "outputs": [
    {
     "name": "stdout",
     "output_type": "stream",
     "text": [
      "\n",
      "\n",
      "\n",
      "\n",
      "\u001b[34m[2025-06-06T16:49:36.625789]\u001b[0m\n",
      "\n",
      "\u001b[31mSystem message:\u001b[0m\n",
      "\n",
      "Your input fields are:\n",
      "1. `text` (str)\n",
      "Your output fields are:\n",
      "1. `sentiment` (str)\n",
      "All interactions will be structured in the following way, with the appropriate values filled in.\n",
      "\n",
      "[[ ## text ## ]]\n",
      "{text}\n",
      "\n",
      "[[ ## sentiment ## ]]\n",
      "{sentiment}\n",
      "\n",
      "[[ ## completed ## ]]\n",
      "In adhering to this structure, your objective is: \n",
      "        Given the fields `text`, produce the fields `sentiment`.\n",
      "\n",
      "\n",
      "\u001b[31mUser message:\u001b[0m\n",
      "\n",
      "[[ ## text ## ]]\n",
      "I do not feel that happy nor do I feel sad\n",
      "\n",
      "Respond with the corresponding output fields, starting with the field `[[ ## sentiment ## ]]`, and then ending with the marker for `[[ ## completed ## ]]`.\n",
      "\n",
      "\n",
      "\u001b[31mResponse:\u001b[0m\n",
      "\n",
      "\u001b[32m[[ ## sentiment ## ]]\n",
      "neutral\n",
      "\n",
      "[[ ## completed ## ]]\u001b[0m\n",
      "\n",
      "\n",
      "\n",
      "\n",
      "\n"
     ]
    }
   ],
   "source": [
    "dspy.inspect_history(n=1)"
   ]
  },
  {
   "cell_type": "markdown",
   "id": "7e36f97e-5414-4749-939f-0bd1f20e3ab0",
   "metadata": {},
   "source": [
    "### Try a Different Built-in Module"
   ]
  },
  {
   "cell_type": "code",
   "execution_count": 15,
   "id": "9e86d738-468c-4269-bb51-8ecfc2b6ccfc",
   "metadata": {
    "height": 81
   },
   "outputs": [
    {
     "name": "stdout",
     "output_type": "stream",
     "text": [
      "Prediction(\n",
      "    reasoning='The text expresses a positive emotion, specifically happiness. The use of the word \"happy\" indicates a strong positive sentiment. Therefore, the sentiment score is high.',\n",
      "    sentiment=8\n",
      ")\n"
     ]
    }
   ],
   "source": [
    "cot = dspy.ChainOfThought(SentimentClassifier)\n",
    "\n",
    "output = cot(text=\"I am feeling pretty happy!\")\n",
    "print(output)"
   ]
  },
  {
   "cell_type": "code",
   "execution_count": 16,
   "id": "ad92d6d2-554a-4d8a-b647-2f7c4ba97b08",
   "metadata": {
    "height": 30
   },
   "outputs": [
    {
     "name": "stdout",
     "output_type": "stream",
     "text": [
      "\n",
      "\n",
      "\n",
      "\n",
      "\u001b[34m[2025-06-06T16:49:36.635863]\u001b[0m\n",
      "\n",
      "\u001b[31mSystem message:\u001b[0m\n",
      "\n",
      "Your input fields are:\n",
      "1. `text` (str): input text to classify sentiment\n",
      "Your output fields are:\n",
      "1. `reasoning` (str)\n",
      "2. `sentiment` (int): sentiment, the higher the more positive\n",
      "Constraints: greater than or equal to: 0, less than or equal to: 10\n",
      "All interactions will be structured in the following way, with the appropriate values filled in.\n",
      "\n",
      "[[ ## text ## ]]\n",
      "{text}\n",
      "\n",
      "[[ ## reasoning ## ]]\n",
      "{reasoning}\n",
      "\n",
      "[[ ## sentiment ## ]]\n",
      "{sentiment}        # note: the value you produce must be a single int value\n",
      "\n",
      "[[ ## completed ## ]]\n",
      "In adhering to this structure, your objective is: \n",
      "        Classify the sentiment of a text.\n",
      "\n",
      "\n",
      "\u001b[31mUser message:\u001b[0m\n",
      "\n",
      "[[ ## text ## ]]\n",
      "I am feeling pretty happy!\n",
      "\n",
      "Respond with the corresponding output fields, starting with the field `[[ ## reasoning ## ]]`, then `[[ ## sentiment ## ]]` (must be formatted as a valid Python int), and then ending with the marker for `[[ ## completed ## ]]`.\n",
      "\n",
      "\n",
      "\u001b[31mResponse:\u001b[0m\n",
      "\n",
      "\u001b[32m[[ ## reasoning ## ]]\n",
      "The text expresses a positive emotion, specifically happiness. The use of the word \"happy\" indicates a strong positive sentiment. Therefore, the sentiment score is high.\n",
      "\n",
      "[[ ## sentiment ## ]]\n",
      "8\n",
      "\n",
      "[[ ## completed ## ]]\u001b[0m\n",
      "\n",
      "\n",
      "\n",
      "\n",
      "\n"
     ]
    }
   ],
   "source": [
    "dspy.inspect_history(n=1)"
   ]
  },
  {
   "cell_type": "code",
   "execution_count": 17,
   "id": "f3ae15e5",
   "metadata": {
    "height": 47
   },
   "outputs": [
    {
     "name": "stdout",
     "output_type": "stream",
     "text": [
      "Prediction(\n",
      "    reasoning='The text expresses a neutral emotional state, indicating neither happiness nor sadness. This suggests a lack of strong positive or negative feelings, which typically corresponds to a sentiment score around the midpoint of the scale.',\n",
      "    sentiment=5\n",
      ")\n"
     ]
    }
   ],
   "source": [
    "output = cot(text=\"I do not feel that happy nor do I feel sad\")\n",
    "print(output)"
   ]
  },
  {
   "cell_type": "code",
   "execution_count": 18,
   "id": "0b817f39",
   "metadata": {
    "height": 30
   },
   "outputs": [
    {
     "name": "stdout",
     "output_type": "stream",
     "text": [
      "\n",
      "\n",
      "\n",
      "\n",
      "\u001b[34m[2025-06-06T16:49:36.646454]\u001b[0m\n",
      "\n",
      "\u001b[31mSystem message:\u001b[0m\n",
      "\n",
      "Your input fields are:\n",
      "1. `text` (str): input text to classify sentiment\n",
      "Your output fields are:\n",
      "1. `reasoning` (str)\n",
      "2. `sentiment` (int): sentiment, the higher the more positive\n",
      "Constraints: greater than or equal to: 0, less than or equal to: 10\n",
      "All interactions will be structured in the following way, with the appropriate values filled in.\n",
      "\n",
      "[[ ## text ## ]]\n",
      "{text}\n",
      "\n",
      "[[ ## reasoning ## ]]\n",
      "{reasoning}\n",
      "\n",
      "[[ ## sentiment ## ]]\n",
      "{sentiment}        # note: the value you produce must be a single int value\n",
      "\n",
      "[[ ## completed ## ]]\n",
      "In adhering to this structure, your objective is: \n",
      "        Classify the sentiment of a text.\n",
      "\n",
      "\n",
      "\u001b[31mUser message:\u001b[0m\n",
      "\n",
      "[[ ## text ## ]]\n",
      "I do not feel that happy nor do I feel sad\n",
      "\n",
      "Respond with the corresponding output fields, starting with the field `[[ ## reasoning ## ]]`, then `[[ ## sentiment ## ]]` (must be formatted as a valid Python int), and then ending with the marker for `[[ ## completed ## ]]`.\n",
      "\n",
      "\n",
      "\u001b[31mResponse:\u001b[0m\n",
      "\n",
      "\u001b[32m[[ ## reasoning ## ]]\n",
      "The text expresses a neutral emotional state, indicating neither happiness nor sadness. This suggests a lack of strong positive or negative feelings, which typically corresponds to a sentiment score around the midpoint of the scale.\n",
      "\n",
      "[[ ## sentiment ## ]]\n",
      "5\n",
      "\n",
      "[[ ## completed ## ]]\u001b[0m\n",
      "\n",
      "\n",
      "\n",
      "\n",
      "\n"
     ]
    }
   ],
   "source": [
    "dspy.inspect_history(n=1)"
   ]
  },
  {
   "cell_type": "markdown",
   "id": "e71f2d32-2336-4a54-9c2c-ef41109125c1",
   "metadata": {},
   "source": [
    "### Use a Different Adapter"
   ]
  },
  {
   "cell_type": "code",
   "execution_count": 19,
   "id": "baa8ca69-13e8-47cc-9965-b0e280a383ce",
   "metadata": {
    "height": 30
   },
   "outputs": [],
   "source": [
    "dspy.configure(adapter=dspy.JSONAdapter())"
   ]
  },
  {
   "cell_type": "code",
   "execution_count": 20,
   "id": "984fa475-0220-4ab8-995f-492afa09385a",
   "metadata": {
    "height": 30
   },
   "outputs": [],
   "source": [
    "output = cot(text=\"I am feeling pretty happy!\")"
   ]
  },
  {
   "cell_type": "code",
   "execution_count": 21,
   "id": "13c0abc0",
   "metadata": {
    "height": 30
   },
   "outputs": [
    {
     "data": {
      "text/plain": [
       "Prediction(\n",
       "    reasoning=\"The text expresses a positive emotion, specifically happiness, which indicates a favorable sentiment. The use of the word 'happy' suggests a strong positive feeling.\",\n",
       "    sentiment=8\n",
       ")"
      ]
     },
     "execution_count": 21,
     "metadata": {},
     "output_type": "execute_result"
    }
   ],
   "source": [
    "output"
   ]
  },
  {
   "cell_type": "code",
   "execution_count": 22,
   "id": "d3820920",
   "metadata": {
    "height": 30
   },
   "outputs": [
    {
     "name": "stdout",
     "output_type": "stream",
     "text": [
      "\n",
      "\n",
      "\n",
      "\n",
      "\u001b[34m[2025-06-06T16:49:36.662136]\u001b[0m\n",
      "\n",
      "\u001b[31mSystem message:\u001b[0m\n",
      "\n",
      "Your input fields are:\n",
      "1. `text` (str): input text to classify sentiment\n",
      "Your output fields are:\n",
      "1. `reasoning` (str)\n",
      "2. `sentiment` (int): sentiment, the higher the more positive\n",
      "Constraints: greater than or equal to: 0, less than or equal to: 10\n",
      "All interactions will be structured in the following way, with the appropriate values filled in.\n",
      "\n",
      "Inputs will have the following structure:\n",
      "\n",
      "[[ ## text ## ]]\n",
      "{text}\n",
      "\n",
      "Outputs will be a JSON object with the following fields.\n",
      "\n",
      "{\n",
      "  \"reasoning\": \"{reasoning}\",\n",
      "  \"sentiment\": \"{sentiment}        # note: the value you produce must be a single int value\"\n",
      "}\n",
      "In adhering to this structure, your objective is: \n",
      "        Classify the sentiment of a text.\n",
      "\n",
      "\n",
      "\u001b[31mUser message:\u001b[0m\n",
      "\n",
      "[[ ## text ## ]]\n",
      "I am feeling pretty happy!\n",
      "\n",
      "Respond with a JSON object in the following order of fields: `reasoning`, then `sentiment` (must be formatted as a valid Python int).\n",
      "\n",
      "\n",
      "\u001b[31mResponse:\u001b[0m\n",
      "\n",
      "\u001b[32m{\"reasoning\":\"The text expresses a positive emotion, specifically happiness, which indicates a favorable sentiment. The use of the word 'happy' suggests a strong positive feeling.\",\"sentiment\":8}\u001b[0m\n",
      "\n",
      "\n",
      "\n",
      "\n",
      "\n"
     ]
    }
   ],
   "source": [
    "dspy.inspect_history(n=1)"
   ]
  },
  {
   "cell_type": "markdown",
   "id": "22921dc6-d6ff-4306-82b7-60cc2ef09bff",
   "metadata": {},
   "source": [
    "## Build a Program with Custom Module"
   ]
  },
  {
   "cell_type": "code",
   "execution_count": 26,
   "id": "6e2c3720",
   "metadata": {
    "height": 30
   },
   "outputs": [],
   "source": [
    "dspy.configure(lm=dspy.LM(\"openai/gpt-4o\"))"
   ]
  },
  {
   "cell_type": "code",
   "execution_count": 27,
   "id": "757973e3-0716-4e6b-99ed-010ffb3e8390",
   "metadata": {
    "height": 1169
   },
   "outputs": [],
   "source": [
    "class QuestionGenerator(dspy.Signature):\n",
    "    \"\"\"Generate a yes or no question in order to guess the celebrity name in users' mind. You can ask in general or directly guess the name if you think the signal is enough. You should never ask the same question in the past_questions.\"\"\"\n",
    "\n",
    "    past_questions: list[str] = dspy.InputField(desc=\"past questions asked\")\n",
    "    past_answers: list[bool] = dspy.InputField(desc=\"past answers\")\n",
    "    new_question: str = dspy.OutputField(\n",
    "        desc=\"new question that can help narrow down the celebrity name\"\n",
    "    )\n",
    "    guess_made: bool = dspy.OutputField(\n",
    "        desc=\"If the new_question is the celebrity name guess, set to True, if it is still a general question set to False\"\n",
    "    )\n",
    "\n",
    "\n",
    "class Reflection(dspy.Signature):\n",
    "    \"\"\"Provide reflection on the guessing process\"\"\"\n",
    "\n",
    "    correct_celebrity_name: str = dspy.InputField(\n",
    "        desc=\"the celebrity name in user's mind\"\n",
    "    )\n",
    "    final_guessor_question: str = dspy.InputField(\n",
    "        desc=\"the final guess or question LM made\"\n",
    "    )\n",
    "    past_questions: list[str] = dspy.InputField(desc=\"past questions asked\")\n",
    "    past_answers: list[bool] = dspy.InputField(desc=\"past answers\")\n",
    "\n",
    "    reflection: str = dspy.OutputField(\n",
    "        desc=\"reflection on the guessing process, including what was done well and what can be improved\"\n",
    "    )\n",
    "\n",
    "\n",
    "def ask(prompt, valid_responses=(\"y\", \"n\")):\n",
    "    while True:\n",
    "        response = input(f\"{prompt} ({'/'.join(valid_responses)}): \").strip().lower()\n",
    "        if response in valid_responses:\n",
    "            return response\n",
    "        print(f\"Please enter one of: {', '.join(valid_responses)}\")\n",
    "\n",
    "\n",
    "class CelebrityGuess(dspy.Module):\n",
    "    def __init__(self, max_tries=10):\n",
    "        super().__init__()\n",
    "\n",
    "        self.question_generator = dspy.ChainOfThought(QuestionGenerator)\n",
    "        self.reflection = dspy.ChainOfThought(Reflection)\n",
    "\n",
    "        self.max_tries = 20\n",
    "\n",
    "    def forward(self):\n",
    "        celebrity_name = input(\n",
    "            \"Please think of a celebrity name, once you are ready, type the name and press enter...\"\n",
    "        )\n",
    "        past_questions = []\n",
    "        past_answers = []\n",
    "\n",
    "        correct_guess = False\n",
    "\n",
    "        for i in range(self.max_tries):\n",
    "            question = self.question_generator(\n",
    "                past_questions=past_questions,\n",
    "                past_answers=past_answers,\n",
    "            )\n",
    "            answer = ask(f\"{question.new_question}\").lower() == \"y\"\n",
    "            past_questions.append(question.new_question)\n",
    "            past_answers.append(answer)\n",
    "\n",
    "            if question.guess_made and answer:\n",
    "                correct_guess = True\n",
    "                break\n",
    "\n",
    "        if correct_guess:\n",
    "            print(\"Yay! I got it right!\")\n",
    "        else:\n",
    "            print(\"Oops, I couldn't guess it right.\")\n",
    "\n",
    "        reflection = self.reflection(\n",
    "            correct_celebrity_name=celebrity_name,\n",
    "            final_guessor_question=question.new_question,\n",
    "            past_questions=past_questions,\n",
    "            past_answers=past_answers,\n",
    "        )\n",
    "        print(reflection.reflection)"
   ]
  },
  {
   "cell_type": "code",
   "execution_count": 28,
   "id": "74e7da57-2b07-404b-87ad-633dc751511b",
   "metadata": {
    "height": 30
   },
   "outputs": [],
   "source": [
    "celebrity_guess = CelebrityGuess()"
   ]
  },
  {
   "cell_type": "code",
   "execution_count": 29,
   "id": "cabb8dd3-cdcd-4d93-b04d-cd6915981cb5",
   "metadata": {
    "height": 30
   },
   "outputs": [
    {
     "name": "stdout",
     "output_type": "stream",
     "text": [
      "Please think of a celebrity name, once you are ready, type the name and press enter...Steve Jobs\n",
      "Is the celebrity you are thinking of primarily known for their work in the entertainment industry? (y/n): n\n",
      "Is the celebrity you are thinking of primarily known for their work in sports? (y/n): n\n",
      "Is the celebrity you are thinking of primarily known for their work in politics? (y/n): n\n",
      "Is the celebrity you are thinking of primarily known for their work in business? (y/n): y\n",
      "Is the celebrity you are thinking of a founder or CEO of a major technology company? (y/n): y\n",
      "Is the celebrity you are thinking of Elon Musk? (y/n): n\n",
      "Is the celebrity you are thinking of Jeff Bezos? (y/n): n\n",
      "Is the celebrity you are thinking of Mark Zuckerberg? (y/n): n\n",
      "Is the celebrity you are thinking of Bill Gates? (y/n): n\n",
      "Is the celebrity you are thinking of Tim Cook? (y/n): n\n",
      "Is the celebrity you are thinking of Larry Page? (y/n): n\n",
      "Is the celebrity you are thinking of Sundar Pichai? (y/n): n\n",
      "Is the celebrity you are thinking of Satya Nadella? (y/n): n\n",
      "Is the celebrity you are thinking of Jack Dorsey? (y/n): n\n",
      "Is the celebrity you are thinking of Steve Jobs? (y/n): y\n",
      "Yay! I got it right!\n",
      "The guessing process was well-structured, starting with broad questions to narrow down the industry and then focusing on specific individuals within the tech sector. This methodical approach ensured that the field of possibilities was reduced efficiently. One area for improvement could be to ask more distinguishing questions earlier in the process to potentially reduce the number of specific individuals that need to be considered. For example, asking about the time period of the celebrity's prominence or their specific contributions could have led to a quicker identification of Steve Jobs. Overall, the process was logical and effective, but there is room for optimizing the sequence of questions to reach the conclusion more swiftly.\n"
     ]
    }
   ],
   "source": [
    "celebrity_guess()"
   ]
  },
  {
   "cell_type": "code",
   "execution_count": 34,
   "id": "830e15b7",
   "metadata": {
    "height": 30
   },
   "outputs": [
    {
     "name": "stdout",
     "output_type": "stream",
     "text": [
      "\n",
      "\n",
      "\n",
      "\n",
      "\u001b[34m[2025-06-06T16:52:07.402114]\u001b[0m\n",
      "\n",
      "\u001b[31mSystem message:\u001b[0m\n",
      "\n",
      "Your input fields are:\n",
      "1. `past_questions` (list[str]): past questions asked\n",
      "2. `past_answers` (list[bool]): past answers\n",
      "Your output fields are:\n",
      "1. `reasoning` (str)\n",
      "2. `new_question` (str): new question that can help narrow down the celebrity name\n",
      "3. `guess_made` (bool): If the new_question is the celebrity name guess, set to True, if it is still a general question set to False\n",
      "All interactions will be structured in the following way, with the appropriate values filled in.\n",
      "\n",
      "Inputs will have the following structure:\n",
      "\n",
      "[[ ## past_questions ## ]]\n",
      "{past_questions}\n",
      "\n",
      "[[ ## past_answers ## ]]\n",
      "{past_answers}\n",
      "\n",
      "Outputs will be a JSON object with the following fields.\n",
      "\n",
      "{\n",
      "  \"reasoning\": \"{reasoning}\",\n",
      "  \"new_question\": \"{new_question}\",\n",
      "  \"guess_made\": \"{guess_made}        # note: the value you produce must be True or False\"\n",
      "}\n",
      "In adhering to this structure, your objective is: \n",
      "        Generate a yes or no question in order to guess the celebrity name in users' mind. You can ask in general or directly guess the name if you think the signal is enough. You should never ask the same question in the past_questions.\n",
      "\n",
      "\n",
      "\u001b[31mUser message:\u001b[0m\n",
      "\n",
      "[[ ## past_questions ## ]]\n",
      "[\"Is the celebrity you are thinking of primarily known for their work in the entertainment industry?\", \"Is the celebrity you are thinking of primarily known for their work in sports?\", \"Is the celebrity you are thinking of primarily known for their work in politics?\", \"Is the celebrity you are thinking of primarily known for their work in business?\", \"Is the celebrity you are thinking of a founder or CEO of a major technology company?\", \"Is the celebrity you are thinking of Elon Musk?\", \"Is the celebrity you are thinking of Jeff Bezos?\", \"Is the celebrity you are thinking of Mark Zuckerberg?\", \"Is the celebrity you are thinking of Bill Gates?\", \"Is the celebrity you are thinking of Tim Cook?\", \"Is the celebrity you are thinking of Larry Page?\", \"Is the celebrity you are thinking of Sundar Pichai?\", \"Is the celebrity you are thinking of Satya Nadella?\"]\n",
      "\n",
      "[[ ## past_answers ## ]]\n",
      "[false, false, false, true, true, false, false, false, false, false, false, false, false]\n",
      "\n",
      "Respond with a JSON object in the following order of fields: `reasoning`, then `new_question`, then `guess_made` (must be formatted as a valid Python bool).\n",
      "\n",
      "\n",
      "\u001b[31mResponse:\u001b[0m\n",
      "\n",
      "\u001b[32m{\"reasoning\":\"The past questions and answers indicate that the celebrity is known for their work in business, specifically as a founder or CEO of a major technology company. We have ruled out several prominent tech CEOs such as Elon Musk, Jeff Bezos, Mark Zuckerberg, Bill Gates, Tim Cook, Larry Page, Sundar Pichai, and Satya Nadella. Given these eliminations, we should consider other notable tech CEOs or founders who fit this profile.\",\"new_question\":\"Is the celebrity you are thinking of Jack Dorsey?\",\"guess_made\":false}\u001b[0m\n",
      "\n",
      "\n",
      "\n",
      "\n",
      "\n",
      "\u001b[34m[2025-06-06T16:52:11.172827]\u001b[0m\n",
      "\n",
      "\u001b[31mSystem message:\u001b[0m\n",
      "\n",
      "Your input fields are:\n",
      "1. `past_questions` (list[str]): past questions asked\n",
      "2. `past_answers` (list[bool]): past answers\n",
      "Your output fields are:\n",
      "1. `reasoning` (str)\n",
      "2. `new_question` (str): new question that can help narrow down the celebrity name\n",
      "3. `guess_made` (bool): If the new_question is the celebrity name guess, set to True, if it is still a general question set to False\n",
      "All interactions will be structured in the following way, with the appropriate values filled in.\n",
      "\n",
      "Inputs will have the following structure:\n",
      "\n",
      "[[ ## past_questions ## ]]\n",
      "{past_questions}\n",
      "\n",
      "[[ ## past_answers ## ]]\n",
      "{past_answers}\n",
      "\n",
      "Outputs will be a JSON object with the following fields.\n",
      "\n",
      "{\n",
      "  \"reasoning\": \"{reasoning}\",\n",
      "  \"new_question\": \"{new_question}\",\n",
      "  \"guess_made\": \"{guess_made}        # note: the value you produce must be True or False\"\n",
      "}\n",
      "In adhering to this structure, your objective is: \n",
      "        Generate a yes or no question in order to guess the celebrity name in users' mind. You can ask in general or directly guess the name if you think the signal is enough. You should never ask the same question in the past_questions.\n",
      "\n",
      "\n",
      "\u001b[31mUser message:\u001b[0m\n",
      "\n",
      "[[ ## past_questions ## ]]\n",
      "[\"Is the celebrity you are thinking of primarily known for their work in the entertainment industry?\", \"Is the celebrity you are thinking of primarily known for their work in sports?\", \"Is the celebrity you are thinking of primarily known for their work in politics?\", \"Is the celebrity you are thinking of primarily known for their work in business?\", \"Is the celebrity you are thinking of a founder or CEO of a major technology company?\", \"Is the celebrity you are thinking of Elon Musk?\", \"Is the celebrity you are thinking of Jeff Bezos?\", \"Is the celebrity you are thinking of Mark Zuckerberg?\", \"Is the celebrity you are thinking of Bill Gates?\", \"Is the celebrity you are thinking of Tim Cook?\", \"Is the celebrity you are thinking of Larry Page?\", \"Is the celebrity you are thinking of Sundar Pichai?\", \"Is the celebrity you are thinking of Satya Nadella?\", \"Is the celebrity you are thinking of Jack Dorsey?\"]\n",
      "\n",
      "[[ ## past_answers ## ]]\n",
      "[false, false, false, true, true, false, false, false, false, false, false, false, false, false]\n",
      "\n",
      "Respond with a JSON object in the following order of fields: `reasoning`, then `new_question`, then `guess_made` (must be formatted as a valid Python bool).\n",
      "\n",
      "\n",
      "\u001b[31mResponse:\u001b[0m\n",
      "\n",
      "\u001b[32m{\"reasoning\":\"The past questions have established that the celebrity is known for their work in business, specifically as a founder or CEO of a major technology company. The guesses so far have eliminated several prominent tech CEOs, including Elon Musk, Jeff Bezos, Mark Zuckerberg, Bill Gates, Tim Cook, Larry Page, Sundar Pichai, Satya Nadella, and Jack Dorsey. Given these eliminations, I should consider other notable tech CEOs or founders who have not been guessed yet.\",\"new_question\":\"Is the celebrity you are thinking of Steve Jobs?\",\"guess_made\":true}\u001b[0m\n",
      "\n",
      "\n",
      "\n",
      "\n",
      "\n",
      "\u001b[34m[2025-06-06T16:52:21.556509]\u001b[0m\n",
      "\n",
      "\u001b[31mSystem message:\u001b[0m\n",
      "\n",
      "Your input fields are:\n",
      "1. `correct_celebrity_name` (str): the celebrity name in user's mind\n",
      "2. `final_guessor_question` (str): the final guess or question LM made\n",
      "3. `past_questions` (list[str]): past questions asked\n",
      "4. `past_answers` (list[bool]): past answers\n",
      "Your output fields are:\n",
      "1. `reasoning` (str)\n",
      "2. `reflection` (str): reflection on the guessing process, including what was done well and what can be improved\n",
      "All interactions will be structured in the following way, with the appropriate values filled in.\n",
      "\n",
      "Inputs will have the following structure:\n",
      "\n",
      "[[ ## correct_celebrity_name ## ]]\n",
      "{correct_celebrity_name}\n",
      "\n",
      "[[ ## final_guessor_question ## ]]\n",
      "{final_guessor_question}\n",
      "\n",
      "[[ ## past_questions ## ]]\n",
      "{past_questions}\n",
      "\n",
      "[[ ## past_answers ## ]]\n",
      "{past_answers}\n",
      "\n",
      "Outputs will be a JSON object with the following fields.\n",
      "\n",
      "{\n",
      "  \"reasoning\": \"{reasoning}\",\n",
      "  \"reflection\": \"{reflection}\"\n",
      "}\n",
      "In adhering to this structure, your objective is: \n",
      "        Provide reflection on the guessing process\n",
      "\n",
      "\n",
      "\u001b[31mUser message:\u001b[0m\n",
      "\n",
      "[[ ## correct_celebrity_name ## ]]\n",
      "Steve Jobs\n",
      "\n",
      "[[ ## final_guessor_question ## ]]\n",
      "Is the celebrity you are thinking of Steve Jobs?\n",
      "\n",
      "[[ ## past_questions ## ]]\n",
      "[\"Is the celebrity you are thinking of primarily known for their work in the entertainment industry?\", \"Is the celebrity you are thinking of primarily known for their work in sports?\", \"Is the celebrity you are thinking of primarily known for their work in politics?\", \"Is the celebrity you are thinking of primarily known for their work in business?\", \"Is the celebrity you are thinking of a founder or CEO of a major technology company?\", \"Is the celebrity you are thinking of Elon Musk?\", \"Is the celebrity you are thinking of Jeff Bezos?\", \"Is the celebrity you are thinking of Mark Zuckerberg?\", \"Is the celebrity you are thinking of Bill Gates?\", \"Is the celebrity you are thinking of Tim Cook?\", \"Is the celebrity you are thinking of Larry Page?\", \"Is the celebrity you are thinking of Sundar Pichai?\", \"Is the celebrity you are thinking of Satya Nadella?\", \"Is the celebrity you are thinking of Jack Dorsey?\", \"Is the celebrity you are thinking of Steve Jobs?\"]\n",
      "\n",
      "[[ ## past_answers ## ]]\n",
      "[false, false, false, true, true, false, false, false, false, false, false, false, false, false, true]\n",
      "\n",
      "Respond with a JSON object in the following order of fields: `reasoning`, then `reflection`.\n",
      "\n",
      "\n",
      "\u001b[31mResponse:\u001b[0m\n",
      "\n",
      "\u001b[32m{\"reasoning\":\"The process of elimination was used effectively to narrow down the field of possible celebrities. Initially, broad categories were used to determine the industry the celebrity is associated with, such as entertainment, sports, politics, and business. Once it was established that the celebrity is known for their work in business, and more specifically as a founder or CEO of a major technology company, the questions focused on prominent figures in the tech industry. By asking about well-known tech leaders like Elon Musk, Jeff Bezos, and others, the process systematically eliminated incorrect options until arriving at Steve Jobs.\",\"reflection\":\"The guessing process was well-structured, starting with broad questions to narrow down the industry and then focusing on specific individuals within the tech sector. This methodical approach ensured that the field of possibilities was reduced efficiently. One area for improvement could be to ask more distinguishing questions earlier in the process to potentially reduce the number of specific individuals that need to be considered. For example, asking about the time period of the celebrity's prominence or their specific contributions could have led to a quicker identification of Steve Jobs. Overall, the process was logical and effective, but there is room for optimizing the sequence of questions to reach the conclusion more swiftly.\"}\u001b[0m\n",
      "\n",
      "\n",
      "\n",
      "\n",
      "\n"
     ]
    }
   ],
   "source": [
    "dspy.inspect_history(n=3)"
   ]
  },
  {
   "cell_type": "markdown",
   "id": "79c17054-4872-4ed7-a8a3-13162c0dad70",
   "metadata": {},
   "source": [
    "## Save and Load"
   ]
  },
  {
   "cell_type": "code",
   "execution_count": 35,
   "id": "21ae42d9-f703-4432-9910-82c4fbdae0e6",
   "metadata": {
    "height": 30
   },
   "outputs": [],
   "source": [
    "celebrity_guess.save(\"dspy_program/celebrity.json\", save_program=False)"
   ]
  },
  {
   "cell_type": "code",
   "execution_count": 36,
   "id": "bf744c20-9b74-4c1e-9fac-a56d54db47ff",
   "metadata": {
    "height": 30
   },
   "outputs": [],
   "source": [
    "celebrity_guess.load(\"dspy_program/celebrity.json\")"
   ]
  },
  {
   "cell_type": "code",
   "execution_count": 37,
   "id": "785bbeae-fc9a-48b8-ad73-f280e04dada6",
   "metadata": {
    "height": 30
   },
   "outputs": [],
   "source": [
    "celebrity_guess.save(\"dspy_program/celebrity/\", save_program=True)"
   ]
  },
  {
   "cell_type": "code",
   "execution_count": 38,
   "id": "eb548d44-b176-4629-8fe3-57d0573181ac",
   "metadata": {
    "height": 30
   },
   "outputs": [],
   "source": [
    "loaded = dspy.load(\"dspy_program/celebrity/\")"
   ]
  },
  {
   "cell_type": "code",
   "execution_count": 41,
   "id": "49d93f8c-e8d1-4408-9941-331cf68faae8",
   "metadata": {
    "height": 30
   },
   "outputs": [
    {
     "name": "stdout",
     "output_type": "stream",
     "text": [
      "Please think of a celebrity name, once you are ready, type the name and press enter...Bill Gates\n",
      "Is the celebrity you are thinking of primarily known for their work in the entertainment industry? (y/n): n\n",
      "Is the celebrity you are thinking of primarily known for their work in sports? (y/n): n\n",
      "Is the celebrity you are thinking of primarily known for their work in politics? (y/n): n\n",
      "Is the celebrity you are thinking of primarily known for their work in business? (y/n): y\n",
      "Is the celebrity you are thinking of a founder or CEO of a major technology company? (y/n): y\n",
      "Is the celebrity you are thinking of Elon Musk? (y/n): n\n",
      "Is the celebrity you are thinking of Jeff Bezos? (y/n): n\n",
      "Is the celebrity you are thinking of Mark Zuckerberg? (y/n): n\n",
      "Is the celebrity you are thinking of Bill Gates? (y/n): y\n",
      "Yay! I got it right!\n",
      "The guessing process was effective in narrowing down the possibilities by using a binary question approach to eliminate large groups of potential candidates. The initial questions were well-structured to quickly determine the industry of the celebrity, which is crucial in reducing the scope of possibilities. However, the process could be improved by asking more specific questions earlier on, such as focusing on the type of technology company or the era in which the celebrity became prominent. This could potentially reduce the number of guesses needed to arrive at the correct answer. Additionally, the sequence of guessing specific individuals could be optimized by considering the most likely candidates first based on current prominence or historical impact.\n"
     ]
    }
   ],
   "source": [
    "loaded()"
   ]
  },
  {
   "cell_type": "code",
   "execution_count": 42,
   "id": "3c9fdf73-27a5-4925-bfb7-343c6ac6c58e",
   "metadata": {
    "height": 30
   },
   "outputs": [
    {
     "name": "stdout",
     "output_type": "stream",
     "text": [
      "\n",
      "\n",
      "\n",
      "\n",
      "\u001b[34m[2025-06-06T16:56:35.393928]\u001b[0m\n",
      "\n",
      "\u001b[31mSystem message:\u001b[0m\n",
      "\n",
      "Your input fields are:\n",
      "1. `past_questions` (list[str]): past questions asked\n",
      "2. `past_answers` (list[bool]): past answers\n",
      "Your output fields are:\n",
      "1. `reasoning` (str)\n",
      "2. `new_question` (str): new question that can help narrow down the celebrity name\n",
      "3. `guess_made` (bool): If the new_question is the celebrity name guess, set to True, if it is still a general question set to False\n",
      "All interactions will be structured in the following way, with the appropriate values filled in.\n",
      "\n",
      "Inputs will have the following structure:\n",
      "\n",
      "[[ ## past_questions ## ]]\n",
      "{past_questions}\n",
      "\n",
      "[[ ## past_answers ## ]]\n",
      "{past_answers}\n",
      "\n",
      "Outputs will be a JSON object with the following fields.\n",
      "\n",
      "{\n",
      "  \"reasoning\": \"{reasoning}\",\n",
      "  \"new_question\": \"{new_question}\",\n",
      "  \"guess_made\": \"{guess_made}        # note: the value you produce must be True or False\"\n",
      "}\n",
      "In adhering to this structure, your objective is: \n",
      "        Generate a yes or no question in order to guess the celebrity name in users' mind. You can ask in general or directly guess the name if you think the signal is enough. You should never ask the same question in the past_questions.\n",
      "\n",
      "\n",
      "\u001b[31mUser message:\u001b[0m\n",
      "\n",
      "[[ ## past_questions ## ]]\n",
      "[]\n",
      "\n",
      "[[ ## past_answers ## ]]\n",
      "[]\n",
      "\n",
      "Respond with a JSON object in the following order of fields: `reasoning`, then `new_question`, then `guess_made` (must be formatted as a valid Python bool).\n",
      "\n",
      "\n",
      "\u001b[31mResponse:\u001b[0m\n",
      "\n",
      "\u001b[32m{\"reasoning\":\"Since no questions have been asked yet, I need to start with a broad question to narrow down the possibilities. A good starting point is to determine the general field or industry the celebrity is known for, such as acting, music, sports, etc.\",\"new_question\":\"Is the celebrity you are thinking of primarily known for their work in the entertainment industry?\",\"guess_made\":false}\u001b[0m\n",
      "\n",
      "\n",
      "\n",
      "\n",
      "\n",
      "\u001b[34m[2025-06-06T16:56:37.810150]\u001b[0m\n",
      "\n",
      "\u001b[31mSystem message:\u001b[0m\n",
      "\n",
      "Your input fields are:\n",
      "1. `past_questions` (list[str]): past questions asked\n",
      "2. `past_answers` (list[bool]): past answers\n",
      "Your output fields are:\n",
      "1. `reasoning` (str)\n",
      "2. `new_question` (str): new question that can help narrow down the celebrity name\n",
      "3. `guess_made` (bool): If the new_question is the celebrity name guess, set to True, if it is still a general question set to False\n",
      "All interactions will be structured in the following way, with the appropriate values filled in.\n",
      "\n",
      "Inputs will have the following structure:\n",
      "\n",
      "[[ ## past_questions ## ]]\n",
      "{past_questions}\n",
      "\n",
      "[[ ## past_answers ## ]]\n",
      "{past_answers}\n",
      "\n",
      "Outputs will be a JSON object with the following fields.\n",
      "\n",
      "{\n",
      "  \"reasoning\": \"{reasoning}\",\n",
      "  \"new_question\": \"{new_question}\",\n",
      "  \"guess_made\": \"{guess_made}        # note: the value you produce must be True or False\"\n",
      "}\n",
      "In adhering to this structure, your objective is: \n",
      "        Generate a yes or no question in order to guess the celebrity name in users' mind. You can ask in general or directly guess the name if you think the signal is enough. You should never ask the same question in the past_questions.\n",
      "\n",
      "\n",
      "\u001b[31mUser message:\u001b[0m\n",
      "\n",
      "[[ ## past_questions ## ]]\n",
      "[\"Is the celebrity you are thinking of primarily known for their work in the entertainment industry?\"]\n",
      "\n",
      "[[ ## past_answers ## ]]\n",
      "[false]\n",
      "\n",
      "Respond with a JSON object in the following order of fields: `reasoning`, then `new_question`, then `guess_made` (must be formatted as a valid Python bool).\n",
      "\n",
      "\n",
      "\u001b[31mResponse:\u001b[0m\n",
      "\n",
      "\u001b[32m{\"reasoning\":\"Since the celebrity is not primarily known for their work in the entertainment industry, we should consider other fields such as sports, politics, business, or science. This will help us narrow down the possibilities.\",\"new_question\":\"Is the celebrity you are thinking of primarily known for their work in sports?\",\"guess_made\":false}\u001b[0m\n",
      "\n",
      "\n",
      "\n",
      "\n",
      "\n",
      "\u001b[34m[2025-06-06T16:56:39.094106]\u001b[0m\n",
      "\n",
      "\u001b[31mSystem message:\u001b[0m\n",
      "\n",
      "Your input fields are:\n",
      "1. `past_questions` (list[str]): past questions asked\n",
      "2. `past_answers` (list[bool]): past answers\n",
      "Your output fields are:\n",
      "1. `reasoning` (str)\n",
      "2. `new_question` (str): new question that can help narrow down the celebrity name\n",
      "3. `guess_made` (bool): If the new_question is the celebrity name guess, set to True, if it is still a general question set to False\n",
      "All interactions will be structured in the following way, with the appropriate values filled in.\n",
      "\n",
      "Inputs will have the following structure:\n",
      "\n",
      "[[ ## past_questions ## ]]\n",
      "{past_questions}\n",
      "\n",
      "[[ ## past_answers ## ]]\n",
      "{past_answers}\n",
      "\n",
      "Outputs will be a JSON object with the following fields.\n",
      "\n",
      "{\n",
      "  \"reasoning\": \"{reasoning}\",\n",
      "  \"new_question\": \"{new_question}\",\n",
      "  \"guess_made\": \"{guess_made}        # note: the value you produce must be True or False\"\n",
      "}\n",
      "In adhering to this structure, your objective is: \n",
      "        Generate a yes or no question in order to guess the celebrity name in users' mind. You can ask in general or directly guess the name if you think the signal is enough. You should never ask the same question in the past_questions.\n",
      "\n",
      "\n",
      "\u001b[31mUser message:\u001b[0m\n",
      "\n",
      "[[ ## past_questions ## ]]\n",
      "[\"Is the celebrity you are thinking of primarily known for their work in the entertainment industry?\", \"Is the celebrity you are thinking of primarily known for their work in sports?\"]\n",
      "\n",
      "[[ ## past_answers ## ]]\n",
      "[false, false]\n",
      "\n",
      "Respond with a JSON object in the following order of fields: `reasoning`, then `new_question`, then `guess_made` (must be formatted as a valid Python bool).\n",
      "\n",
      "\n",
      "\u001b[31mResponse:\u001b[0m\n",
      "\n",
      "\u001b[32m{\"reasoning\":\"The past questions have ruled out celebrities primarily known for entertainment and sports. This suggests the celebrity might be known for something else, such as politics, business, science, or social activism. To narrow it down further, I should ask about another major field.\",\"new_question\":\"Is the celebrity you are thinking of primarily known for their work in politics?\",\"guess_made\":false}\u001b[0m\n",
      "\n",
      "\n",
      "\n",
      "\n",
      "\n",
      "\u001b[34m[2025-06-06T16:56:40.280112]\u001b[0m\n",
      "\n",
      "\u001b[31mSystem message:\u001b[0m\n",
      "\n",
      "Your input fields are:\n",
      "1. `past_questions` (list[str]): past questions asked\n",
      "2. `past_answers` (list[bool]): past answers\n",
      "Your output fields are:\n",
      "1. `reasoning` (str)\n",
      "2. `new_question` (str): new question that can help narrow down the celebrity name\n",
      "3. `guess_made` (bool): If the new_question is the celebrity name guess, set to True, if it is still a general question set to False\n",
      "All interactions will be structured in the following way, with the appropriate values filled in.\n",
      "\n",
      "Inputs will have the following structure:\n",
      "\n",
      "[[ ## past_questions ## ]]\n",
      "{past_questions}\n",
      "\n",
      "[[ ## past_answers ## ]]\n",
      "{past_answers}\n",
      "\n",
      "Outputs will be a JSON object with the following fields.\n",
      "\n",
      "{\n",
      "  \"reasoning\": \"{reasoning}\",\n",
      "  \"new_question\": \"{new_question}\",\n",
      "  \"guess_made\": \"{guess_made}        # note: the value you produce must be True or False\"\n",
      "}\n",
      "In adhering to this structure, your objective is: \n",
      "        Generate a yes or no question in order to guess the celebrity name in users' mind. You can ask in general or directly guess the name if you think the signal is enough. You should never ask the same question in the past_questions.\n",
      "\n",
      "\n",
      "\u001b[31mUser message:\u001b[0m\n",
      "\n",
      "[[ ## past_questions ## ]]\n",
      "[\"Is the celebrity you are thinking of primarily known for their work in the entertainment industry?\", \"Is the celebrity you are thinking of primarily known for their work in sports?\", \"Is the celebrity you are thinking of primarily known for their work in politics?\"]\n",
      "\n",
      "[[ ## past_answers ## ]]\n",
      "[false, false, false]\n",
      "\n",
      "Respond with a JSON object in the following order of fields: `reasoning`, then `new_question`, then `guess_made` (must be formatted as a valid Python bool).\n",
      "\n",
      "\n",
      "\u001b[31mResponse:\u001b[0m\n",
      "\n",
      "\u001b[32m{\"reasoning\":\"The past questions have eliminated the possibilities of the celebrity being primarily known for entertainment, sports, or politics. This suggests that the celebrity might be known for something else, such as business, science, or activism. To narrow it down further, I should ask about another major field.\",\"new_question\":\"Is the celebrity you are thinking of primarily known for their work in business?\",\"guess_made\":false}\u001b[0m\n",
      "\n",
      "\n",
      "\n",
      "\n",
      "\n",
      "\u001b[34m[2025-06-06T16:56:42.234412]\u001b[0m\n",
      "\n",
      "\u001b[31mSystem message:\u001b[0m\n",
      "\n",
      "Your input fields are:\n",
      "1. `past_questions` (list[str]): past questions asked\n",
      "2. `past_answers` (list[bool]): past answers\n",
      "Your output fields are:\n",
      "1. `reasoning` (str)\n",
      "2. `new_question` (str): new question that can help narrow down the celebrity name\n",
      "3. `guess_made` (bool): If the new_question is the celebrity name guess, set to True, if it is still a general question set to False\n",
      "All interactions will be structured in the following way, with the appropriate values filled in.\n",
      "\n",
      "Inputs will have the following structure:\n",
      "\n",
      "[[ ## past_questions ## ]]\n",
      "{past_questions}\n",
      "\n",
      "[[ ## past_answers ## ]]\n",
      "{past_answers}\n",
      "\n",
      "Outputs will be a JSON object with the following fields.\n",
      "\n",
      "{\n",
      "  \"reasoning\": \"{reasoning}\",\n",
      "  \"new_question\": \"{new_question}\",\n",
      "  \"guess_made\": \"{guess_made}        # note: the value you produce must be True or False\"\n",
      "}\n",
      "In adhering to this structure, your objective is: \n",
      "        Generate a yes or no question in order to guess the celebrity name in users' mind. You can ask in general or directly guess the name if you think the signal is enough. You should never ask the same question in the past_questions.\n",
      "\n",
      "\n",
      "\u001b[31mUser message:\u001b[0m\n",
      "\n",
      "[[ ## past_questions ## ]]\n",
      "[\"Is the celebrity you are thinking of primarily known for their work in the entertainment industry?\", \"Is the celebrity you are thinking of primarily known for their work in sports?\", \"Is the celebrity you are thinking of primarily known for their work in politics?\", \"Is the celebrity you are thinking of primarily known for their work in business?\"]\n",
      "\n",
      "[[ ## past_answers ## ]]\n",
      "[false, false, false, true]\n",
      "\n",
      "Respond with a JSON object in the following order of fields: `reasoning`, then `new_question`, then `guess_made` (must be formatted as a valid Python bool).\n",
      "\n",
      "\n",
      "\u001b[31mResponse:\u001b[0m\n",
      "\n",
      "\u001b[32m{\"reasoning\":\"The past answers indicate that the celebrity is primarily known for their work in business. To narrow down the possibilities, I should ask about specific characteristics or achievements that are common among well-known business figures.\",\"new_question\":\"Is the celebrity you are thinking of a founder or CEO of a major technology company?\",\"guess_made\":false}\u001b[0m\n",
      "\n",
      "\n",
      "\n",
      "\n",
      "\n",
      "\u001b[34m[2025-06-06T16:56:43.507508]\u001b[0m\n",
      "\n",
      "\u001b[31mSystem message:\u001b[0m\n",
      "\n",
      "Your input fields are:\n",
      "1. `past_questions` (list[str]): past questions asked\n",
      "2. `past_answers` (list[bool]): past answers\n",
      "Your output fields are:\n",
      "1. `reasoning` (str)\n",
      "2. `new_question` (str): new question that can help narrow down the celebrity name\n",
      "3. `guess_made` (bool): If the new_question is the celebrity name guess, set to True, if it is still a general question set to False\n",
      "All interactions will be structured in the following way, with the appropriate values filled in.\n",
      "\n",
      "Inputs will have the following structure:\n",
      "\n",
      "[[ ## past_questions ## ]]\n",
      "{past_questions}\n",
      "\n",
      "[[ ## past_answers ## ]]\n",
      "{past_answers}\n",
      "\n",
      "Outputs will be a JSON object with the following fields.\n",
      "\n",
      "{\n",
      "  \"reasoning\": \"{reasoning}\",\n",
      "  \"new_question\": \"{new_question}\",\n",
      "  \"guess_made\": \"{guess_made}        # note: the value you produce must be True or False\"\n",
      "}\n",
      "In adhering to this structure, your objective is: \n",
      "        Generate a yes or no question in order to guess the celebrity name in users' mind. You can ask in general or directly guess the name if you think the signal is enough. You should never ask the same question in the past_questions.\n",
      "\n",
      "\n",
      "\u001b[31mUser message:\u001b[0m\n",
      "\n",
      "[[ ## past_questions ## ]]\n",
      "[\"Is the celebrity you are thinking of primarily known for their work in the entertainment industry?\", \"Is the celebrity you are thinking of primarily known for their work in sports?\", \"Is the celebrity you are thinking of primarily known for their work in politics?\", \"Is the celebrity you are thinking of primarily known for their work in business?\", \"Is the celebrity you are thinking of a founder or CEO of a major technology company?\"]\n",
      "\n",
      "[[ ## past_answers ## ]]\n",
      "[false, false, false, true, true]\n",
      "\n",
      "Respond with a JSON object in the following order of fields: `reasoning`, then `new_question`, then `guess_made` (must be formatted as a valid Python bool).\n",
      "\n",
      "\n",
      "\u001b[31mResponse:\u001b[0m\n",
      "\n",
      "\u001b[32m{\"reasoning\":\"The answers indicate that the celebrity is known for their work in business, specifically as a founder or CEO of a major technology company. This narrows down the possibilities significantly to well-known tech figures. Given this information, I should now try to identify which specific tech leader it might be.\",\"new_question\":\"Is the celebrity you are thinking of Elon Musk?\",\"guess_made\":true}\u001b[0m\n",
      "\n",
      "\n",
      "\n",
      "\n",
      "\n",
      "\u001b[34m[2025-06-06T16:56:44.987120]\u001b[0m\n",
      "\n",
      "\u001b[31mSystem message:\u001b[0m\n",
      "\n",
      "Your input fields are:\n",
      "1. `past_questions` (list[str]): past questions asked\n",
      "2. `past_answers` (list[bool]): past answers\n",
      "Your output fields are:\n",
      "1. `reasoning` (str)\n",
      "2. `new_question` (str): new question that can help narrow down the celebrity name\n",
      "3. `guess_made` (bool): If the new_question is the celebrity name guess, set to True, if it is still a general question set to False\n",
      "All interactions will be structured in the following way, with the appropriate values filled in.\n",
      "\n",
      "Inputs will have the following structure:\n",
      "\n",
      "[[ ## past_questions ## ]]\n",
      "{past_questions}\n",
      "\n",
      "[[ ## past_answers ## ]]\n",
      "{past_answers}\n",
      "\n",
      "Outputs will be a JSON object with the following fields.\n",
      "\n",
      "{\n",
      "  \"reasoning\": \"{reasoning}\",\n",
      "  \"new_question\": \"{new_question}\",\n",
      "  \"guess_made\": \"{guess_made}        # note: the value you produce must be True or False\"\n",
      "}\n",
      "In adhering to this structure, your objective is: \n",
      "        Generate a yes or no question in order to guess the celebrity name in users' mind. You can ask in general or directly guess the name if you think the signal is enough. You should never ask the same question in the past_questions.\n",
      "\n",
      "\n",
      "\u001b[31mUser message:\u001b[0m\n",
      "\n",
      "[[ ## past_questions ## ]]\n",
      "[\"Is the celebrity you are thinking of primarily known for their work in the entertainment industry?\", \"Is the celebrity you are thinking of primarily known for their work in sports?\", \"Is the celebrity you are thinking of primarily known for their work in politics?\", \"Is the celebrity you are thinking of primarily known for their work in business?\", \"Is the celebrity you are thinking of a founder or CEO of a major technology company?\", \"Is the celebrity you are thinking of Elon Musk?\"]\n",
      "\n",
      "[[ ## past_answers ## ]]\n",
      "[false, false, false, true, true, false]\n",
      "\n",
      "Respond with a JSON object in the following order of fields: `reasoning`, then `new_question`, then `guess_made` (must be formatted as a valid Python bool).\n",
      "\n",
      "\n",
      "\u001b[31mResponse:\u001b[0m\n",
      "\n",
      "\u001b[32m{\"reasoning\":\"The past questions and answers indicate that the celebrity is primarily known for their work in business, specifically as a founder or CEO of a major technology company. Since the guess of Elon Musk was incorrect, we need to consider other prominent tech CEOs. A logical next guess would be Jeff Bezos, as he is a well-known figure in the tech industry and a founder of a major company, Amazon.\",\"new_question\":\"Is the celebrity you are thinking of Jeff Bezos?\",\"guess_made\":true}\u001b[0m\n",
      "\n",
      "\n",
      "\n",
      "\n",
      "\n",
      "\u001b[34m[2025-06-06T16:56:46.015106]\u001b[0m\n",
      "\n",
      "\u001b[31mSystem message:\u001b[0m\n",
      "\n",
      "Your input fields are:\n",
      "1. `past_questions` (list[str]): past questions asked\n",
      "2. `past_answers` (list[bool]): past answers\n",
      "Your output fields are:\n",
      "1. `reasoning` (str)\n",
      "2. `new_question` (str): new question that can help narrow down the celebrity name\n",
      "3. `guess_made` (bool): If the new_question is the celebrity name guess, set to True, if it is still a general question set to False\n",
      "All interactions will be structured in the following way, with the appropriate values filled in.\n",
      "\n",
      "Inputs will have the following structure:\n",
      "\n",
      "[[ ## past_questions ## ]]\n",
      "{past_questions}\n",
      "\n",
      "[[ ## past_answers ## ]]\n",
      "{past_answers}\n",
      "\n",
      "Outputs will be a JSON object with the following fields.\n",
      "\n",
      "{\n",
      "  \"reasoning\": \"{reasoning}\",\n",
      "  \"new_question\": \"{new_question}\",\n",
      "  \"guess_made\": \"{guess_made}        # note: the value you produce must be True or False\"\n",
      "}\n",
      "In adhering to this structure, your objective is: \n",
      "        Generate a yes or no question in order to guess the celebrity name in users' mind. You can ask in general or directly guess the name if you think the signal is enough. You should never ask the same question in the past_questions.\n",
      "\n",
      "\n",
      "\u001b[31mUser message:\u001b[0m\n",
      "\n",
      "[[ ## past_questions ## ]]\n",
      "[\"Is the celebrity you are thinking of primarily known for their work in the entertainment industry?\", \"Is the celebrity you are thinking of primarily known for their work in sports?\", \"Is the celebrity you are thinking of primarily known for their work in politics?\", \"Is the celebrity you are thinking of primarily known for their work in business?\", \"Is the celebrity you are thinking of a founder or CEO of a major technology company?\", \"Is the celebrity you are thinking of Elon Musk?\", \"Is the celebrity you are thinking of Jeff Bezos?\"]\n",
      "\n",
      "[[ ## past_answers ## ]]\n",
      "[false, false, false, true, true, false, false]\n",
      "\n",
      "Respond with a JSON object in the following order of fields: `reasoning`, then `new_question`, then `guess_made` (must be formatted as a valid Python bool).\n",
      "\n",
      "\n",
      "\u001b[31mResponse:\u001b[0m\n",
      "\n",
      "\u001b[32m{\"reasoning\":\"The past questions and answers indicate that the celebrity is primarily known for their work in business and is a founder or CEO of a major technology company. The guesses for Elon Musk and Jeff Bezos were incorrect, which suggests that the celebrity is another prominent figure in the tech industry. Given these clues, a logical next guess would be Mark Zuckerberg, as he is a well-known tech CEO and founder.\",\"new_question\":\"Is the celebrity you are thinking of Mark Zuckerberg?\",\"guess_made\":true}\u001b[0m\n",
      "\n",
      "\n",
      "\n",
      "\n",
      "\n",
      "\u001b[34m[2025-06-06T16:56:46.906285]\u001b[0m\n",
      "\n",
      "\u001b[31mSystem message:\u001b[0m\n",
      "\n",
      "Your input fields are:\n",
      "1. `past_questions` (list[str]): past questions asked\n",
      "2. `past_answers` (list[bool]): past answers\n",
      "Your output fields are:\n",
      "1. `reasoning` (str)\n",
      "2. `new_question` (str): new question that can help narrow down the celebrity name\n",
      "3. `guess_made` (bool): If the new_question is the celebrity name guess, set to True, if it is still a general question set to False\n",
      "All interactions will be structured in the following way, with the appropriate values filled in.\n",
      "\n",
      "Inputs will have the following structure:\n",
      "\n",
      "[[ ## past_questions ## ]]\n",
      "{past_questions}\n",
      "\n",
      "[[ ## past_answers ## ]]\n",
      "{past_answers}\n",
      "\n",
      "Outputs will be a JSON object with the following fields.\n",
      "\n",
      "{\n",
      "  \"reasoning\": \"{reasoning}\",\n",
      "  \"new_question\": \"{new_question}\",\n",
      "  \"guess_made\": \"{guess_made}        # note: the value you produce must be True or False\"\n",
      "}\n",
      "In adhering to this structure, your objective is: \n",
      "        Generate a yes or no question in order to guess the celebrity name in users' mind. You can ask in general or directly guess the name if you think the signal is enough. You should never ask the same question in the past_questions.\n",
      "\n",
      "\n",
      "\u001b[31mUser message:\u001b[0m\n",
      "\n",
      "[[ ## past_questions ## ]]\n",
      "[\"Is the celebrity you are thinking of primarily known for their work in the entertainment industry?\", \"Is the celebrity you are thinking of primarily known for their work in sports?\", \"Is the celebrity you are thinking of primarily known for their work in politics?\", \"Is the celebrity you are thinking of primarily known for their work in business?\", \"Is the celebrity you are thinking of a founder or CEO of a major technology company?\", \"Is the celebrity you are thinking of Elon Musk?\", \"Is the celebrity you are thinking of Jeff Bezos?\", \"Is the celebrity you are thinking of Mark Zuckerberg?\"]\n",
      "\n",
      "[[ ## past_answers ## ]]\n",
      "[false, false, false, true, true, false, false, false]\n",
      "\n",
      "Respond with a JSON object in the following order of fields: `reasoning`, then `new_question`, then `guess_made` (must be formatted as a valid Python bool).\n",
      "\n",
      "\n",
      "\u001b[31mResponse:\u001b[0m\n",
      "\n",
      "\u001b[32m{\"reasoning\":\"The past questions and answers indicate that the celebrity is primarily known for their work in business, specifically as a founder or CEO of a major technology company. The guesses for Elon Musk, Jeff Bezos, and Mark Zuckerberg were incorrect. Other prominent tech CEOs include Bill Gates, Tim Cook, and Sundar Pichai. Since the person is a founder, Tim Cook is unlikely. Bill Gates is a well-known founder, so it makes sense to guess him next.\",\"new_question\":\"Is the celebrity you are thinking of Bill Gates?\",\"guess_made\":true}\u001b[0m\n",
      "\n",
      "\n",
      "\n",
      "\n",
      "\n",
      "\u001b[34m[2025-06-06T16:56:54.049482]\u001b[0m\n",
      "\n",
      "\u001b[31mSystem message:\u001b[0m\n",
      "\n",
      "Your input fields are:\n",
      "1. `correct_celebrity_name` (str): the celebrity name in user's mind\n",
      "2. `final_guessor_question` (str): the final guess or question LM made\n",
      "3. `past_questions` (list[str]): past questions asked\n",
      "4. `past_answers` (list[bool]): past answers\n",
      "Your output fields are:\n",
      "1. `reasoning` (str)\n",
      "2. `reflection` (str): reflection on the guessing process, including what was done well and what can be improved\n",
      "All interactions will be structured in the following way, with the appropriate values filled in.\n",
      "\n",
      "Inputs will have the following structure:\n",
      "\n",
      "[[ ## correct_celebrity_name ## ]]\n",
      "{correct_celebrity_name}\n",
      "\n",
      "[[ ## final_guessor_question ## ]]\n",
      "{final_guessor_question}\n",
      "\n",
      "[[ ## past_questions ## ]]\n",
      "{past_questions}\n",
      "\n",
      "[[ ## past_answers ## ]]\n",
      "{past_answers}\n",
      "\n",
      "Outputs will be a JSON object with the following fields.\n",
      "\n",
      "{\n",
      "  \"reasoning\": \"{reasoning}\",\n",
      "  \"reflection\": \"{reflection}\"\n",
      "}\n",
      "In adhering to this structure, your objective is: \n",
      "        Provide reflection on the guessing process\n",
      "\n",
      "\n",
      "\u001b[31mUser message:\u001b[0m\n",
      "\n",
      "[[ ## correct_celebrity_name ## ]]\n",
      "Bill Gates\n",
      "\n",
      "[[ ## final_guessor_question ## ]]\n",
      "Is the celebrity you are thinking of Bill Gates?\n",
      "\n",
      "[[ ## past_questions ## ]]\n",
      "[\"Is the celebrity you are thinking of primarily known for their work in the entertainment industry?\", \"Is the celebrity you are thinking of primarily known for their work in sports?\", \"Is the celebrity you are thinking of primarily known for their work in politics?\", \"Is the celebrity you are thinking of primarily known for their work in business?\", \"Is the celebrity you are thinking of a founder or CEO of a major technology company?\", \"Is the celebrity you are thinking of Elon Musk?\", \"Is the celebrity you are thinking of Jeff Bezos?\", \"Is the celebrity you are thinking of Mark Zuckerberg?\", \"Is the celebrity you are thinking of Bill Gates?\"]\n",
      "\n",
      "[[ ## past_answers ## ]]\n",
      "[false, false, false, true, true, false, false, false, true]\n",
      "\n",
      "Respond with a JSON object in the following order of fields: `reasoning`, then `reflection`.\n",
      "\n",
      "\n",
      "\u001b[31mResponse:\u001b[0m\n",
      "\n",
      "\u001b[32m{\"reasoning\":\"The reasoning process involved systematically narrowing down the field of potential celebrities by asking questions that eliminated large categories of people. Initially, questions were asked to determine the general field of the celebrity's fame, such as entertainment, sports, politics, or business. Once it was established that the celebrity was known for their work in business, further questions were asked to identify if they were a founder or CEO of a major technology company. This led to a series of guesses about prominent figures in the tech industry, ultimately leading to the correct identification of Bill Gates.\",\"reflection\":\"The guessing process was effective in narrowing down the possibilities by using a binary question approach to eliminate large groups of potential candidates. The initial questions were well-structured to quickly determine the industry of the celebrity, which is crucial in reducing the scope of possibilities. However, the process could be improved by asking more specific questions earlier on, such as focusing on the type of technology company or the era in which the celebrity became prominent. This could potentially reduce the number of guesses needed to arrive at the correct answer. Additionally, the sequence of guessing specific individuals could be optimized by considering the most likely candidates first based on current prominence or historical impact.\"}\u001b[0m\n",
      "\n",
      "\n",
      "\n",
      "\n",
      "\n"
     ]
    }
   ],
   "source": [
    "dspy.inspect_history(n=10)"
   ]
  },
  {
   "cell_type": "code",
   "execution_count": 43,
   "id": "d226b779-6b8e-4ff9-a0a2-86df42c9499d",
   "metadata": {
    "height": 30
   },
   "outputs": [
    {
     "name": "stdout",
     "output_type": "stream",
     "text": [
      "{\r\n",
      "  \"question_generator.predict\": {\r\n",
      "    \"traces\": [],\r\n",
      "    \"train\": [],\r\n",
      "    \"demos\": [],\r\n",
      "    \"signature\": {\r\n",
      "      \"instructions\": \"Generate a yes or no question in order to guess the celebrity name in users' mind. You can ask in general or directly guess the name if you think the signal is enough. You should never ask the same question in the past_questions.\",\r\n",
      "      \"fields\": [\r\n",
      "        {\r\n",
      "          \"prefix\": \"Past Questions:\",\r\n",
      "          \"description\": \"past questions asked\"\r\n",
      "        },\r\n",
      "        {\r\n",
      "          \"prefix\": \"Past Answers:\",\r\n",
      "          \"description\": \"past answers\"\r\n",
      "        },\r\n",
      "        {\r\n",
      "          \"prefix\": \"Reasoning: Let's think step by step in order to\",\r\n",
      "          \"description\": \"${reasoning}\"\r\n",
      "        },\r\n",
      "        {\r\n",
      "          \"prefix\": \"New Question:\",\r\n",
      "          \"description\": \"new question that can help narrow down the celebrity name\"\r\n",
      "        },\r\n",
      "        {\r\n",
      "          \"prefix\": \"Guess Made:\",\r\n",
      "          \"description\": \"If the new_question is the celebrity name guess, set to True, if it is still a general question set to False\"\r\n",
      "        }\r\n",
      "      ]\r\n",
      "    },\r\n",
      "    \"lm\": null\r\n",
      "  },\r\n",
      "  \"reflection.predict\": {\r\n",
      "    \"traces\": [],\r\n",
      "    \"train\": [],\r\n",
      "    \"demos\": [],\r\n",
      "    \"signature\": {\r\n",
      "      \"instructions\": \"Provide reflection on the guessing process\",\r\n",
      "      \"fields\": [\r\n",
      "        {\r\n",
      "          \"prefix\": \"Correct Celebrity Name:\",\r\n",
      "          \"description\": \"the celebrity name in user's mind\"\r\n",
      "        },\r\n",
      "        {\r\n",
      "          \"prefix\": \"Final Guessor Question:\",\r\n",
      "          \"description\": \"the final guess or question LM made\"\r\n",
      "        },\r\n",
      "        {\r\n",
      "          \"prefix\": \"Past Questions:\",\r\n",
      "          \"description\": \"past questions asked\"\r\n",
      "        },\r\n",
      "        {\r\n",
      "          \"prefix\": \"Past Answers:\",\r\n",
      "          \"description\": \"past answers\"\r\n",
      "        },\r\n",
      "        {\r\n",
      "          \"prefix\": \"Reasoning: Let's think step by step in order to\",\r\n",
      "          \"description\": \"${reasoning}\"\r\n",
      "        },\r\n",
      "        {\r\n",
      "          \"prefix\": \"Reflection:\",\r\n",
      "          \"description\": \"reflection on the guessing process, including what was done well and what can be improved\"\r\n",
      "        }\r\n",
      "      ]\r\n",
      "    },\r\n",
      "    \"lm\": null\r\n",
      "  },\r\n",
      "  \"metadata\": {\r\n",
      "    \"dependency_versions\": {\r\n",
      "      \"python\": \"3.11\",\r\n",
      "      \"dspy\": \"2.6.23\",\r\n",
      "      \"cloudpickle\": \"3.1\"\r\n",
      "    }\r\n",
      "  }\r\n",
      "}"
     ]
    }
   ],
   "source": [
    "!cat dspy_program/celebrity.json"
   ]
  },
  {
   "cell_type": "code",
   "execution_count": 48,
   "id": "747385d3-6611-484f-b7c7-78564be67b0d",
   "metadata": {
    "height": 30
   },
   "outputs": [
    {
     "name": "stdout",
     "output_type": "stream",
     "text": [
      "total 24K\r\n",
      "-rw-r--r--. 1 jovyan jovyan 17K Jun  6 16:53 program.pkl\r\n",
      "-rw-r--r--. 1 jovyan jovyan 103 Jun  6 16:53 metadata.json\r\n"
     ]
    }
   ],
   "source": [
    "!ls -lrth dspy_program/celebrity/"
   ]
  },
  {
   "cell_type": "code",
   "execution_count": 49,
   "id": "b0aa5186-bc89-4b64-9639-5e51a53ec4e6",
   "metadata": {
    "height": 30
   },
   "outputs": [
    {
     "name": "stdout",
     "output_type": "stream",
     "text": [
      "{\r\n",
      "  \"dependency_versions\": {\r\n",
      "    \"python\": \"3.11\",\r\n",
      "    \"dspy\": \"2.6.23\",\r\n",
      "    \"cloudpickle\": \"3.1\"\r\n",
      "  }\r\n",
      "}"
     ]
    }
   ],
   "source": [
    "!cat dspy_program/celebrity/metadata.json"
   ]
  },
  {
   "cell_type": "code",
   "execution_count": null,
   "id": "ca43556c",
   "metadata": {
    "height": 30
   },
   "outputs": [],
   "source": []
  },
  {
   "cell_type": "code",
   "execution_count": null,
   "id": "d80a8d0a",
   "metadata": {
    "height": 30
   },
   "outputs": [],
   "source": []
  }
 ],
 "metadata": {
  "kernelspec": {
   "display_name": "Python 3 (ipykernel)",
   "language": "python",
   "name": "python3"
  },
  "language_info": {
   "codemirror_mode": {
    "name": "ipython",
    "version": 3
   },
   "file_extension": ".py",
   "mimetype": "text/x-python",
   "name": "python",
   "nbconvert_exporter": "python",
   "pygments_lexer": "ipython3",
   "version": "3.11.3"
  }
 },
 "nbformat": 4,
 "nbformat_minor": 5
}
